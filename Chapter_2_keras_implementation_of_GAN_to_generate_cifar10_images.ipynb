{
  "nbformat": 4,
  "nbformat_minor": 0,
  "metadata": {
    "colab": {
      "name": "Chapter-2  keras implementation of GAN to generate cifar10 images.ipynb",
      "provenance": []
    },
    "kernelspec": {
      "name": "python3",
      "display_name": "Python 3"
    },
    "language_info": {
      "name": "python"
    }
  },
  "cells": [
    {
      "cell_type": "code",
      "source": [
        "\"\"\"\n",
        "GAN: cifar10 data set\n",
        "Following code trains and generates images based on the cifar10 dataset.\n",
        "I've adapted the code by Jason Brownlee from his blogs on https://machinelearningmastery.com/\n",
        "I seriously urge everyone to follow his blogs and get enlightened. \n",
        "Original credit goes to Jason. \n",
        "Regular GAN that generates images using a random latent vector as input.\n",
        "While it works great we do not know the mapping of latent vector to the generated image.\n",
        "Conditional GANs can be used to supply a label during taining so the latent vector \n",
        "can be associated with a specific label - making the generation of images predictable. \n",
        "\"\"\"\n",
        "import tensorflow\n",
        "from numpy import zeros\n",
        "from numpy import ones\n",
        "from numpy.random import randn\n",
        "from numpy.random import randint\n",
        "from keras.datasets.cifar10 import load_data\n",
        "from tensorflow.keras.optimizers import Adam\n",
        "from keras.models import Sequential\n",
        "from keras.layers import Dense\n",
        "from keras.layers import Reshape\n",
        "from keras.layers import Flatten\n",
        "from keras.layers import Conv2D\n",
        "from keras.layers import Conv2DTranspose\n",
        "from keras.layers import LeakyReLU\n",
        "from keras.layers import Dropout\n",
        "\n",
        "from matplotlib import pyplot as plt\n",
        "########################################################################\n",
        "\n",
        "#Load data and plot to get a quick understanding\n",
        "#CIFAR10 classes are: airplane, automobile, bird, cat, deer, dog, frog, horse,\n",
        "# ship, truck\n",
        "(trainX, trainy), (testX, testy) = load_data()\n",
        "\n",
        "# plot 25 images\n",
        "for i in range(25):\n",
        "\tplt.subplot(5, 5, 1 + i)\n",
        "\tplt.axis('off')\n",
        "\tplt.imshow(trainX[i])\n",
        "plt.show()\n"
      ],
      "metadata": {
        "id": "6aiOJ_zsOi5Z"
      },
      "execution_count": null,
      "outputs": []
    },
    {
      "cell_type": "code",
      "source": [
        "#############################################################################\n",
        "#Define generator, discriminator, gan and other helper functions\n",
        "#Using Sequential method from Keras as it makes the definition of models easy.\n",
        "#We will use functional way of defining the model for the conditional gan\n",
        "#but sequential for descriminator and generator as they are straightforward.\n",
        "#########################################################################\n",
        "\n",
        "# define the standalone discriminator model\n",
        "#Given an input image, the Discriminator outputs the likelihood of the image being real.\n",
        "#Binary classification - true or false (1 or 0). So using sigmoid activation.\n",
        "def define_discriminator(in_shape=(32,32,3)):\n",
        "\tmodel = Sequential()\n",
        "\t\n",
        "\tmodel.add(Conv2D(128, (3,3), strides=(2,2), padding='same', input_shape=in_shape)) #16x16x128\n",
        "\tmodel.add(LeakyReLU(alpha=0.2))\n",
        "\t\n",
        "\tmodel.add(Conv2D(128, (3,3), strides=(2,2), padding='same')) #8x8x128\n",
        "\tmodel.add(LeakyReLU(alpha=0.2))\n",
        "\t\n",
        "\tmodel.add(Flatten()) #shape of 8192\n",
        "\tmodel.add(Dropout(0.4))\n",
        "\tmodel.add(Dense(1, activation='sigmoid')) #shape of 1\n",
        "\t# compile model\n",
        "\topt = Adam(lr=0.0002, beta_1=0.5)\n",
        "\tmodel.compile(loss='binary_crossentropy', optimizer=opt, metrics=['accuracy'])\n",
        "\treturn model\n",
        "\n",
        "test_discr = define_discriminator()\n",
        "print(test_discr.summary())"
      ],
      "metadata": {
        "id": "_lCBdnXuOi8R"
      },
      "execution_count": null,
      "outputs": []
    },
    {
      "cell_type": "code",
      "source": [
        "def define_generator(latent_dim):    #latent_dim is the dimension of the latent vector (e.g., 100)\n",
        "\tmodel = Sequential()\n",
        "\t# We will reshape input latent vector into 8x8 image as a starting point. \n",
        "    #So n_nodes for the Dense layer can be 128x8x8 so when we reshape the output \n",
        "    #it would be 8x8x128 and that can be slowly upscaled to 32x32 image for output.\n",
        "\tn_nodes = 128 * 8 * 8  #8192 nodes\n",
        "\tmodel.add(Dense(n_nodes, input_dim=latent_dim)) #Dense layer so we can work with 1D latent vector\n",
        "\tmodel.add(LeakyReLU(alpha=0.2))\n",
        "\tmodel.add(Reshape((8, 8, 128)))  #8x8x128 dataset from the latent vector. \n",
        "\t# upsample to 16x16\n",
        "\tmodel.add(Conv2DTranspose(128, (4,4), strides=(2,2), padding='same')) #16x16x128\n",
        "\tmodel.add(LeakyReLU(alpha=0.2))\n",
        "\t# upsample to 32x32\n",
        "\tmodel.add(Conv2DTranspose(128, (4,4), strides=(2,2), padding='same')) #32x32x128\n",
        "\tmodel.add(LeakyReLU(alpha=0.2))\n",
        "\t# generate\n",
        "\tmodel.add(Conv2D(3, (8,8), activation='tanh', padding='same')) #32x32x3\n",
        "\treturn model  #Model not compiled as it is not directly trained like the discriminator.\n",
        "                    #Generator is trained via GAN combined model. \n",
        "\n",
        "test_gen = define_generator(100)\n",
        "print(test_gen.summary())\n"
      ],
      "metadata": {
        "id": "MyZQHzyaOi--"
      },
      "execution_count": null,
      "outputs": []
    },
    {
      "cell_type": "code",
      "source": [
        "# define the combined generator and discriminator model, for updating the generator\n",
        "#Discriminator is trained separately so here only generator will be trained by keeping\n",
        "#the discriminator constant. \n",
        "def define_gan(generator, discriminator):\n",
        "\tdiscriminator.trainable = False  #Discriminator is trained separately. So set to not trainable.\n",
        "\t# connect generator and discriminator\n",
        "\tmodel = Sequential()\n",
        "\tmodel.add(generator)\n",
        "\tmodel.add(discriminator)\n",
        "\t# compile model\n",
        "\topt = Adam(lr=0.0002, beta_1=0.5)\n",
        "\tmodel.compile(loss='binary_crossentropy', optimizer=opt)\n",
        "\treturn model\n",
        "\n",
        "\n",
        "# load cifar training images\n",
        "def load_real_samples():\n",
        "\t(trainX, _), (_, _) = load_data()\n",
        "\t# cConvert to float and scale.\n",
        "\tX = trainX.astype('float32')\n",
        "\t# scale from [0,255] to [-1,1]\n",
        "\tX = (X - 127.5) / 127.5  #Generator uses tanh activation so rescale \n",
        "                            #original images to -1 to 1 to match the output of generator.\n",
        "\treturn X\n",
        "\n",
        "# pick a batch of random real samples to train the GAN\n",
        "#In fact, we will train the GAN on a half batch of real images and another \n",
        "#half batch of fake images. \n",
        "#For each real image we assign a label 1 and for fake we assign label 0. \n",
        "\n",
        "def generate_real_samples(dataset, n_samples):# n_samples means n number of real images\n",
        "\t# choose random images\n",
        "\tix = randint(0, dataset.shape[0], n_samples)\n",
        "\t# select the random images and assign it to X\n",
        "\tX = dataset[ix]\n",
        "\t# generate class labels and assign to y\n",
        "\ty = ones((n_samples, 1)) ##Label=1 indicating they are real\n",
        "\treturn X, y\n",
        "\n",
        "# generate n_samples number of latent vectors as input for the generator\n",
        "def generate_latent_points(latent_dim, n_samples):\n",
        "\t# generate points in the latent space\n",
        "\tx_input = randn(latent_dim * n_samples)\n",
        "\t# reshape into a batch of inputs for the network\n",
        "\tx_input = x_input.reshape(n_samples, latent_dim)\n",
        "\treturn x_input\n",
        "\n",
        "# use the generator to generate n fake examples, with class labels\n",
        "#Supply the generator, latent_dim and number of samples as input.\n",
        "#Use the above latent point generator to generate latent points. \n",
        "def generate_fake_samples(generator, latent_dim, n_samples):# this are fake images\n",
        "\t# generate points in latent space\n",
        "\tx_input = generate_latent_points(latent_dim, n_samples)\n",
        "\t# predict using generator to generate fake samples. \n",
        "\tX = generator.predict(x_input)# gen fake images \n",
        "\t# Class labels will be 0 as these samples are fake. \n",
        "\ty = zeros((n_samples, 1))  #Label=0 indicating they are fake\n",
        "\treturn X, y\n"
      ],
      "metadata": {
        "id": "jx_zQH_kOjB_"
      },
      "execution_count": null,
      "outputs": []
    },
    {
      "cell_type": "code",
      "source": [
        "# train the generator and discriminator\n",
        "#We loop through a number of epochs to train our Discriminator by first selecting\n",
        "#a random batch of images from our true/real dataset.\n",
        "#Then, generating a set of images using the generator. \n",
        "#Feed both set of images into the Discriminator. \n",
        "#Finally, set the loss parameters for both the real and fake images, as well as the combined loss. \n",
        "#g_model=generative model\n",
        "#d_model=discriminator model\n",
        "#gan_model=is organ model\n",
        "\n",
        "def train(g_model, d_model, gan_model, dataset, latent_dim, n_epochs=2, n_batch=128):\n",
        "\tbat_per_epo = int(dataset.shape[0] / n_batch)\n",
        "\thalf_batch = int(n_batch / 2)  #the discriminator model is updated for a half batch of real samples \n",
        "                            #and a half batch of fake samples, combined a single batch. \n",
        "\t# manually enumerate epochs and bacthes. \n",
        "\tfor i in range(n_epochs):\n",
        "\t\t# enumerate batches over the training set\n",
        "\t\tfor j in range(bat_per_epo):\n",
        "            \n",
        "            # Train the discriminator on real and fake images, separately (half batch each)\n",
        "        #Research showed that separate training is more effective. \n",
        "\t\t\t# get randomly selected 'real' samples\n",
        "\t\t\tX_real, y_real = generate_real_samples(dataset, half_batch)\n",
        "\t\t\t# update discriminator model weights\n",
        "            ##train_on_batch allows you to update weights based on a collection \n",
        "            #of samples you provide\n",
        "            #Let us just capture loss and ignore accuracy value (2nd output below)\n",
        "\t\t\td_loss_real, _ = d_model.train_on_batch(X_real, y_real) \n",
        "\t\t\t\n",
        "      # generate 'fake' examples\n",
        "\t\t\tX_fake, y_fake = generate_fake_samples(g_model, latent_dim, half_batch)# x_fake=fake images,y_fake=fake lavel\n",
        "\t\t\t# update discriminator model weights\n",
        "\t\t\td_loss_fake, _ = d_model.train_on_batch(X_fake, y_fake)\n",
        "            \n",
        "      #d_loss = 0.5 * np.add(d_loss_real, d_loss_fake) #Average loss if you want to report single..\n",
        "            \n",
        "\t\t\t# prepare points in latent space as input for the generator\n",
        "\t\t\tX_gan = generate_latent_points(latent_dim, n_batch)\n",
        "             \n",
        "        # The generator wants the discriminator to label the generated samples\n",
        "        # as valid (ones)\n",
        "        #This is where the generator is trying to trick discriminator into believing\n",
        "        #the generated image is true (hence value of 1 for y)\t\t\t\n",
        "\t\t\ty_gan = ones((n_batch, 1))\n",
        "            \n",
        "            # Generator is part of combined model where it got directly linked with the discriminator\n",
        "        # Train the generator with latent_dim as x and 1 as y. \n",
        "        # Again, 1 as the output as it is adversarial and if generator did a great\n",
        "        #job of folling the discriminator then the output would be 1 (true)\n",
        "\t\t\t# update the generator via the discriminator's error\n",
        "\t\t\tg_loss = gan_model.train_on_batch(X_gan, y_gan)\n",
        "\t\t\t\n",
        "            # Print losses on this batch\n",
        "\t\t\tprint('Epoch>%d, Batch %d/%d, d1=%.3f, d2=%.3f g=%.3f' %\n",
        "\t\t\t\t(i+1, j+1, bat_per_epo, d_loss_real, d_loss_fake, g_loss))\n",
        "\t# save the generator model\n",
        "\tg_model.save('cifar_generator_2epochs.h5')\n",
        "\n",
        "###################################################################\n",
        "#Train the GAN\n",
        "\n",
        "# size of the latent space\n",
        "latent_dim = 100# the size of the vector\n",
        "# create the discriminator\n",
        "discriminator = define_discriminator()\n",
        "# create the generator\n",
        "generator = define_generator(latent_dim)\n",
        "# create the gan\n",
        "gan_model = define_gan(generator, discriminator)\n",
        "# load image data\n",
        "dataset = load_real_samples()\n",
        "# train model\n",
        "train(generator, discriminator, gan_model, dataset, latent_dim, n_epochs=2)"
      ],
      "metadata": {
        "id": "k7iYePd9OjD5"
      },
      "execution_count": null,
      "outputs": []
    },
    {
      "cell_type": "code",
      "source": [
        "################################################################################\n",
        "\n",
        "# Now, let us load the generator model and generate images\n",
        "\n",
        "from keras.models import load_model\n",
        "from numpy.random import randn\n",
        "\n",
        "\n",
        "# Plot generated images \n",
        "def show_plot(examples, n):\n",
        "\tfor i in range(n * n):\n",
        "\t\tplt.subplot(n, n, 1 + i)\n",
        "\t\tplt.axis('off')\n",
        "\t\tplt.imshow(examples[i, :, :, :])\n",
        "\tplt.show()\n",
        "\n",
        "# load model\n",
        "model = load_model('cifar_generator_250epochs.h5') #Model trained for 100 epochs\n",
        "# generate images\n",
        "latent_points = generate_latent_points(100, 25)  #Latent dim and n_samples\n",
        "# generate images\n",
        "X = model.predict(latent_points)\n",
        "# scale from [-1,1] to [0,1]\n",
        "X = (X + 1) / 2.0\n",
        "\n",
        "import numpy as np\n",
        "X = (X*255).astype(np.uint8)\n",
        "\n",
        "# plot the result\n",
        "show_plot(X, 5)\n",
        "\n",
        "#Note: CIFAR10 classes are: airplane, automobile, bird, cat, deer, dog, frog, horse,\n",
        "# ship, truck"
      ],
      "metadata": {
        "id": "9M0l4CClOjHu"
      },
      "execution_count": null,
      "outputs": []
    },
    {
      "cell_type": "code",
      "source": [
        ""
      ],
      "metadata": {
        "id": "diTHEE-nOjV3"
      },
      "execution_count": null,
      "outputs": []
    },
    {
      "cell_type": "code",
      "source": [
        ""
      ],
      "metadata": {
        "id": "GNxPHMtSOjYT"
      },
      "execution_count": null,
      "outputs": []
    },
    {
      "cell_type": "code",
      "source": [
        ""
      ],
      "metadata": {
        "id": "CraIUf7GOjaw"
      },
      "execution_count": null,
      "outputs": []
    },
    {
      "cell_type": "code",
      "source": [
        ""
      ],
      "metadata": {
        "id": "J9OHFujYOjdo"
      },
      "execution_count": null,
      "outputs": []
    },
    {
      "cell_type": "code",
      "source": [
        ""
      ],
      "metadata": {
        "id": "9lzejq94Ojhp"
      },
      "execution_count": null,
      "outputs": []
    },
    {
      "cell_type": "code",
      "source": [
        ""
      ],
      "metadata": {
        "id": "GEDaH2jiOjlM"
      },
      "execution_count": null,
      "outputs": []
    }
  ]
}