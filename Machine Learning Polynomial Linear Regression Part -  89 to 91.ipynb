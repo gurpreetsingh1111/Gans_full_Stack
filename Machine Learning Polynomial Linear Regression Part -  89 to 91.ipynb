{
 "cells": [
  {
   "cell_type": "code",
   "execution_count": 19,
   "metadata": {},
   "outputs": [],
   "source": [
    "import pandas as pd\n",
    "import numpy as np\n",
    "from sklearn.linear_model import LinearRegression\n",
    "from sklearn.preprocessing import PolynomialFeatures"
   ]
  },
  {
   "cell_type": "code",
   "execution_count": 5,
   "metadata": {},
   "outputs": [
    {
     "data": {
      "text/html": [
       "<div>\n",
       "<style scoped>\n",
       "    .dataframe tbody tr th:only-of-type {\n",
       "        vertical-align: middle;\n",
       "    }\n",
       "\n",
       "    .dataframe tbody tr th {\n",
       "        vertical-align: top;\n",
       "    }\n",
       "\n",
       "    .dataframe thead th {\n",
       "        text-align: right;\n",
       "    }\n",
       "</style>\n",
       "<table border=\"1\" class=\"dataframe\">\n",
       "  <thead>\n",
       "    <tr style=\"text-align: right;\">\n",
       "      <th></th>\n",
       "      <th>R&amp;D</th>\n",
       "      <th>Administration</th>\n",
       "      <th>Marketing Spend</th>\n",
       "      <th>avrage</th>\n",
       "      <th>city</th>\n",
       "      <th>speed</th>\n",
       "    </tr>\n",
       "  </thead>\n",
       "  <tbody>\n",
       "    <tr>\n",
       "      <th>0</th>\n",
       "      <td>1</td>\n",
       "      <td>165349.20</td>\n",
       "      <td>136897.80</td>\n",
       "      <td>471784.10</td>\n",
       "      <td>New York</td>\n",
       "      <td>192261.83</td>\n",
       "    </tr>\n",
       "    <tr>\n",
       "      <th>1</th>\n",
       "      <td>2</td>\n",
       "      <td>162597.70</td>\n",
       "      <td>151377.59</td>\n",
       "      <td>443898.53</td>\n",
       "      <td>California</td>\n",
       "      <td>191792.06</td>\n",
       "    </tr>\n",
       "    <tr>\n",
       "      <th>2</th>\n",
       "      <td>3</td>\n",
       "      <td>153441.51</td>\n",
       "      <td>101145.55</td>\n",
       "      <td>407934.54</td>\n",
       "      <td>Florida</td>\n",
       "      <td>191050.39</td>\n",
       "    </tr>\n",
       "    <tr>\n",
       "      <th>3</th>\n",
       "      <td>4</td>\n",
       "      <td>144372.41</td>\n",
       "      <td>118671.85</td>\n",
       "      <td>383199.62</td>\n",
       "      <td>New York</td>\n",
       "      <td>182901.99</td>\n",
       "    </tr>\n",
       "    <tr>\n",
       "      <th>4</th>\n",
       "      <td>5</td>\n",
       "      <td>142107.34</td>\n",
       "      <td>91391.77</td>\n",
       "      <td>366168.42</td>\n",
       "      <td>Florida</td>\n",
       "      <td>166187.94</td>\n",
       "    </tr>\n",
       "    <tr>\n",
       "      <th>5</th>\n",
       "      <td>6</td>\n",
       "      <td>131876.90</td>\n",
       "      <td>99814.71</td>\n",
       "      <td>362861.36</td>\n",
       "      <td>New York</td>\n",
       "      <td>156991.12</td>\n",
       "    </tr>\n",
       "    <tr>\n",
       "      <th>6</th>\n",
       "      <td>7</td>\n",
       "      <td>134615.46</td>\n",
       "      <td>147198.87</td>\n",
       "      <td>127716.82</td>\n",
       "      <td>California</td>\n",
       "      <td>156122.51</td>\n",
       "    </tr>\n",
       "    <tr>\n",
       "      <th>7</th>\n",
       "      <td>8</td>\n",
       "      <td>130298.13</td>\n",
       "      <td>145530.06</td>\n",
       "      <td>323876.68</td>\n",
       "      <td>Florida</td>\n",
       "      <td>155752.60</td>\n",
       "    </tr>\n",
       "    <tr>\n",
       "      <th>8</th>\n",
       "      <td>9</td>\n",
       "      <td>120542.52</td>\n",
       "      <td>148718.95</td>\n",
       "      <td>311613.29</td>\n",
       "      <td>New York</td>\n",
       "      <td>152211.77</td>\n",
       "    </tr>\n",
       "    <tr>\n",
       "      <th>9</th>\n",
       "      <td>10</td>\n",
       "      <td>123334.88</td>\n",
       "      <td>108679.17</td>\n",
       "      <td>304981.62</td>\n",
       "      <td>California</td>\n",
       "      <td>149759.96</td>\n",
       "    </tr>\n",
       "  </tbody>\n",
       "</table>\n",
       "</div>"
      ],
      "text/plain": [
       "   R&D   Administration  Marketing Spend     avrage        city      speed\n",
       "0     1       165349.20        136897.80  471784.10    New York  192261.83\n",
       "1     2       162597.70        151377.59  443898.53  California  191792.06\n",
       "2     3       153441.51        101145.55  407934.54     Florida  191050.39\n",
       "3     4       144372.41        118671.85  383199.62    New York  182901.99\n",
       "4     5       142107.34         91391.77  366168.42     Florida  166187.94\n",
       "5     6       131876.90         99814.71  362861.36    New York  156991.12\n",
       "6     7       134615.46        147198.87  127716.82  California  156122.51\n",
       "7     8       130298.13        145530.06  323876.68     Florida  155752.60\n",
       "8     9       120542.52        148718.95  311613.29    New York  152211.77\n",
       "9    10       123334.88        108679.17  304981.62  California  149759.96"
      ]
     },
     "execution_count": 5,
     "metadata": {},
     "output_type": "execute_result"
    }
   ],
   "source": [
    "data =pd.read_csv(\"MULTIPLE_ REGRESSION_ NASA01.csv\")\n",
    "data.head(10)"
   ]
  },
  {
   "cell_type": "code",
   "execution_count": 11,
   "metadata": {
    "collapsed": true
   },
   "outputs": [
    {
     "data": {
      "text/plain": [
       "array([[165349.2 ],\n",
       "       [162597.7 ],\n",
       "       [153441.51],\n",
       "       [144372.41],\n",
       "       [142107.34],\n",
       "       [131876.9 ],\n",
       "       [134615.46],\n",
       "       [130298.13],\n",
       "       [120542.52],\n",
       "       [123334.88],\n",
       "       [101913.08],\n",
       "       [100671.96],\n",
       "       [ 93863.75],\n",
       "       [ 91992.39],\n",
       "       [119943.24],\n",
       "       [114523.61],\n",
       "       [ 78013.11],\n",
       "       [ 94657.16],\n",
       "       [ 91749.16],\n",
       "       [ 86419.7 ],\n",
       "       [ 76253.86],\n",
       "       [ 78389.47],\n",
       "       [ 73994.56],\n",
       "       [ 67532.53],\n",
       "       [ 77044.01],\n",
       "       [ 64664.71],\n",
       "       [ 75328.87],\n",
       "       [ 72107.6 ],\n",
       "       [ 66051.52],\n",
       "       [ 65605.48],\n",
       "       [ 61994.48],\n",
       "       [ 61136.38],\n",
       "       [ 63408.86],\n",
       "       [ 55493.95],\n",
       "       [ 46426.07],\n",
       "       [ 46014.02],\n",
       "       [ 28663.76],\n",
       "       [ 44069.95],\n",
       "       [ 20229.59],\n",
       "       [ 38558.51],\n",
       "       [ 28754.33],\n",
       "       [ 27892.92],\n",
       "       [ 23640.93],\n",
       "       [ 15505.73],\n",
       "       [ 22177.74],\n",
       "       [  1000.23],\n",
       "       [  1315.46],\n",
       "       [     0.  ],\n",
       "       [   542.05],\n",
       "       [     0.  ]])"
      ]
     },
     "execution_count": 11,
     "metadata": {},
     "output_type": "execute_result"
    }
   ],
   "source": [
    "real_x=data.iloc[:,1].values  # vector of one dimentional \n",
    "real_x=data.iloc[:,1:2].values\n",
    "real_x"
   ]
  },
  {
   "cell_type": "code",
   "execution_count": 13,
   "metadata": {},
   "outputs": [
    {
     "data": {
      "text/plain": [
       "array([136897.8 , 151377.59, 101145.55, 118671.85,  91391.77,  99814.71,\n",
       "       147198.87, 145530.06, 148718.95, 108679.17, 110594.11,  91790.61,\n",
       "       127320.38, 135495.07, 156547.42, 122616.84, 121597.55, 145077.58,\n",
       "       114175.79, 153514.11, 113867.3 , 153773.43, 122782.75, 105751.03,\n",
       "        99281.34, 139553.16, 144135.98, 127864.55, 182645.56, 153032.06,\n",
       "       115641.28, 152701.92, 129219.61, 103057.49, 157693.92,  85047.44,\n",
       "       127056.21,  51283.14,  65947.93,  82982.09, 118546.05,  84710.77,\n",
       "        96189.63, 127382.3 , 154806.14, 124153.04, 115816.21, 135426.92,\n",
       "        51743.15, 116983.8 ])"
      ]
     },
     "execution_count": 13,
     "metadata": {},
     "output_type": "execute_result"
    }
   ],
   "source": [
    "real_y=data.iloc[:,2].values \n",
    "real_y"
   ]
  },
  {
   "cell_type": "code",
   "execution_count": 17,
   "metadata": {},
   "outputs": [
    {
     "data": {
      "text/plain": [
       "LinearRegression(copy_X=True, fit_intercept=True, n_jobs=None, normalize=False)"
      ]
     },
     "execution_count": 17,
     "metadata": {},
     "output_type": "execute_result"
    }
   ],
   "source": [
    "linear_regression=LinearRegression()\n",
    "linear_regression.fit(real_x,real_y)"
   ]
  },
  {
   "cell_type": "code",
   "execution_count": 21,
   "metadata": {},
   "outputs": [
    {
     "data": {
      "text/plain": [
       "array([[1.00000000e+00, 1.65349200e+05, 2.73403579e+10],\n",
       "       [1.00000000e+00, 1.62597700e+05, 2.64380120e+10],\n",
       "       [1.00000000e+00, 1.53441510e+05, 2.35442970e+10],\n",
       "       [1.00000000e+00, 1.44372410e+05, 2.08433928e+10],\n",
       "       [1.00000000e+00, 1.42107340e+05, 2.01944961e+10],\n",
       "       [1.00000000e+00, 1.31876900e+05, 1.73915168e+10],\n",
       "       [1.00000000e+00, 1.34615460e+05, 1.81213221e+10],\n",
       "       [1.00000000e+00, 1.30298130e+05, 1.69776027e+10],\n",
       "       [1.00000000e+00, 1.20542520e+05, 1.45304991e+10],\n",
       "       [1.00000000e+00, 1.23334880e+05, 1.52114926e+10],\n",
       "       [1.00000000e+00, 1.01913080e+05, 1.03862759e+10],\n",
       "       [1.00000000e+00, 1.00671960e+05, 1.01348435e+10],\n",
       "       [1.00000000e+00, 9.38637500e+04, 8.81040356e+09],\n",
       "       [1.00000000e+00, 9.19923900e+04, 8.46259982e+09],\n",
       "       [1.00000000e+00, 1.19943240e+05, 1.43863808e+10],\n",
       "       [1.00000000e+00, 1.14523610e+05, 1.31156572e+10],\n",
       "       [1.00000000e+00, 7.80131100e+04, 6.08604533e+09],\n",
       "       [1.00000000e+00, 9.46571600e+04, 8.95997794e+09],\n",
       "       [1.00000000e+00, 9.17491600e+04, 8.41790836e+09],\n",
       "       [1.00000000e+00, 8.64197000e+04, 7.46836455e+09],\n",
       "       [1.00000000e+00, 7.62538600e+04, 5.81465116e+09],\n",
       "       [1.00000000e+00, 7.83894700e+04, 6.14490901e+09],\n",
       "       [1.00000000e+00, 7.39945600e+04, 5.47519491e+09],\n",
       "       [1.00000000e+00, 6.75325300e+04, 4.56064261e+09],\n",
       "       [1.00000000e+00, 7.70440100e+04, 5.93577948e+09],\n",
       "       [1.00000000e+00, 6.46647100e+04, 4.18152472e+09],\n",
       "       [1.00000000e+00, 7.53288700e+04, 5.67443866e+09],\n",
       "       [1.00000000e+00, 7.21076000e+04, 5.19950598e+09],\n",
       "       [1.00000000e+00, 6.60515200e+04, 4.36280329e+09],\n",
       "       [1.00000000e+00, 6.56054800e+04, 4.30407901e+09],\n",
       "       [1.00000000e+00, 6.19944800e+04, 3.84331555e+09],\n",
       "       [1.00000000e+00, 6.11363800e+04, 3.73765696e+09],\n",
       "       [1.00000000e+00, 6.34088600e+04, 4.02068353e+09],\n",
       "       [1.00000000e+00, 5.54939500e+04, 3.07957849e+09],\n",
       "       [1.00000000e+00, 4.64260700e+04, 2.15537998e+09],\n",
       "       [1.00000000e+00, 4.60140200e+04, 2.11729004e+09],\n",
       "       [1.00000000e+00, 2.86637600e+04, 8.21611137e+08],\n",
       "       [1.00000000e+00, 4.40699500e+04, 1.94216049e+09],\n",
       "       [1.00000000e+00, 2.02295900e+04, 4.09236312e+08],\n",
       "       [1.00000000e+00, 3.85585100e+04, 1.48675869e+09],\n",
       "       [1.00000000e+00, 2.87543300e+04, 8.26811494e+08],\n",
       "       [1.00000000e+00, 2.78929200e+04, 7.78014986e+08],\n",
       "       [1.00000000e+00, 2.36409300e+04, 5.58893571e+08],\n",
       "       [1.00000000e+00, 1.55057300e+04, 2.40427663e+08],\n",
       "       [1.00000000e+00, 2.21777400e+04, 4.91852152e+08],\n",
       "       [1.00000000e+00, 1.00023000e+03, 1.00046005e+06],\n",
       "       [1.00000000e+00, 1.31546000e+03, 1.73043501e+06],\n",
       "       [1.00000000e+00, 0.00000000e+00, 0.00000000e+00],\n",
       "       [1.00000000e+00, 5.42050000e+02, 2.93818202e+05],\n",
       "       [1.00000000e+00, 0.00000000e+00, 0.00000000e+00]])"
      ]
     },
     "execution_count": 21,
     "metadata": {},
     "output_type": "execute_result"
    }
   ],
   "source": [
    "polynomial_regression= PolynomialFeatures(degree=2)\n",
    "real_x_poly=polynomial_regression.fit_transform(real_x)\n",
    "real_x_poly"
   ]
  },
  {
   "cell_type": "code",
   "execution_count": null,
   "metadata": {},
   "outputs": [],
   "source": [
    "# built  linear regression"
   ]
  },
  {
   "cell_type": "code",
   "execution_count": null,
   "metadata": {},
   "outputs": [],
   "source": [
    "linear_regression2=LinearRegression()\n",
    "linear_regression2.fit(real_x_poly)"
   ]
  }
 ],
 "metadata": {
  "kernelspec": {
   "display_name": "Python 3",
   "language": "python",
   "name": "python3"
  },
  "language_info": {
   "codemirror_mode": {
    "name": "ipython",
    "version": 3
   },
   "file_extension": ".py",
   "mimetype": "text/x-python",
   "name": "python",
   "nbconvert_exporter": "python",
   "pygments_lexer": "ipython3",
   "version": "3.7.6"
  }
 },
 "nbformat": 4,
 "nbformat_minor": 4
}
